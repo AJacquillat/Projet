{
 "cells": [
  {
   "cell_type": "raw",
   "metadata": {},
   "source": [
    "Notice: Nous vous invitons à visionner ce notebook dans des diapositives. \n",
    "Si vous le disposez pas du module en local, tappez dans un interpreteur Python pip install rise. \n",
    "Vous devriez ensuite voir apparaître sur votre barre de commandes une icône ressemblant à un histogramme. \n",
    "Cliquez dessus et... corrigez \n",
    "\n",
    "Bonne lecture"
   ]
  },
  {
   "cell_type": "markdown",
   "metadata": {
    "slideshow": {
     "slide_type": "slide"
    }
   },
   "source": [
    "# Lignes de niveau, Projet Maths Info\n",
    "## Augustin Jacquillat \n",
    "## Louis Perrotin"
   ]
  },
  {
   "cell_type": "markdown",
   "metadata": {
    "slideshow": {
     "slide_type": "slide"
    }
   },
   "source": [
    "## Présentation du projet "
   ]
  },
  {
   "cell_type": "markdown",
   "metadata": {
    "slideshow": {
     "slide_type": "-"
    }
   },
   "source": [
    "Le projet que nous avons réalisé consiste en l'écriture de fonctions Python qui doivent permettrent de réaliser la tracé de lignes de niveau pour des fonctions de R² dans R. "
   ]
  },
  {
   "cell_type": "markdown",
   "metadata": {
    "slideshow": {
     "slide_type": "-"
    }
   },
   "source": [
    "Pour ce faire, nous avons séparé en deux grandes étapes le travail à fournir: \n",
    "    1. Ecrire une fonction qui réalise le tracé de ces lignes dans un cas simple \n",
    "    2. Ecrire une fonction qui prend en arguments une fonction de R² dans R et un ensemble d'intervalles sur lesquels on pourra lancer la fonction précédement définie"
   ]
  },
  {
   "cell_type": "markdown",
   "metadata": {
    "slideshow": {
     "slide_type": "slide"
    }
   },
   "source": [
    "## Démarche(s)"
   ]
  },
  {
   "cell_type": "markdown",
   "metadata": {
    "slideshow": {
     "slide_type": "-"
    }
   },
   "source": [
    "Nous avons mis en oeuvre plusieurs méthodes pour l'écriture de la fonction simple_contour. \n",
    "L'idée commune à ces méthodes est de procéder de proche c'est a dire que la donnée d'un point conduit à l'obtention du point suivant. \n",
    "\n",
    "Il nous faut donc un premier point que nous trouvons avec la fonction find_seed.\n",
    "\n",
    "Une fois ce point trouvé, plusieurs méthodes sont utilisées pour déterminer le point suivant:\n",
    "    1. Une méthode en utilisant le théorème des fonction  implicites \n",
    "    2. Une méthode en utilisant la caractérisation par le gradient \n",
    "    \n",
    "n.b.: nous avons pensé un instant à apppliquer sur tout l'espace des x la fonction find_seed avant de comprendre que cette méthode serait trop lourde et innefficace (cf.plus loin)"
   ]
  },
  {
   "cell_type": "markdown",
   "metadata": {
    "slideshow": {
     "slide_type": "slide"
    }
   },
   "source": [
    "# 0.Fonction find_seed"
   ]
  },
  {
   "cell_type": "markdown",
   "metadata": {
    "slideshow": {
     "slide_type": "-"
    }
   },
   "source": [
    "## 0.1. Fonction find_seed : l'idée\n",
    "## 0.2. Fonction find_seed : le code\n",
    "## 0.3. Fonction find_seed : exemple d'utilisation"
   ]
  },
  {
   "cell_type": "markdown",
   "metadata": {
    "slideshow": {
     "slide_type": "slide"
    }
   },
   "source": [
    "## 0.1. Fonction find_seed : l'idée"
   ]
  },
  {
   "cell_type": "markdown",
   "metadata": {
    "slideshow": {
     "slide_type": "-"
    }
   },
   "source": [
    "Soit f: R ² $\\to$ R la fonction dont on veut tracer les lignes de niveau. \n",
    "On rappelle que par hypothèse, f est de classe au moins $C^1$.\n",
    "\n",
    "\n",
    "Il nous faut trouver à un x fixé un y qui appartient à notre ligne de niveau . Une condition raisonnable pour l'existence de ce y est que c soit compris entre f(x,a) et f(x,b). \n",
    "\n",
    "Pour déterminer une valeur satisfaisante de y, on procède par dichotomie. \n",
    "\n",
    "Il est a noter que notre fonction renvoie un y qui fonctionne mais pas tous les y qui fonctionnent. \n",
    "\n",
    "On comprend donc que la méthode \"naïve\" qui consiste à appliquer pour un grand nombre d'abscisses x la fonction find_seed est mauvaise car find_seed ne renvoie pas forcément une valeur (si les hypothèses du TVI ne sont pas respectées) et quand bien même elle en renverrait une, elle n'en renverrait jamais qu'une (impossible de détécter plus d'un point pas abscisse)."
   ]
  },
  {
   "cell_type": "markdown",
   "metadata": {
    "slideshow": {
     "slide_type": "slide"
    }
   },
   "source": [
    "## 0.2. Fonction find_seed : le code"
   ]
  },
  {
   "cell_type": "code",
   "execution_count": 3,
   "metadata": {
    "slideshow": {
     "slide_type": "-"
    }
   },
   "outputs": [],
   "source": [
    "##On importe une fois pour toutes tous les modules nécessaires dans la suite du projet \n",
    "\n",
    "import autograd\n",
    "from autograd import numpy as np\n",
    "from math import sqrt\n",
    "import pylab as pl\n",
    "import matplotlib.pyplot as plt\n",
    "\n",
    "#la fonction \n",
    "\n",
    "def find_seed(g, c=0., eps=2**-26):\n",
    "    a=0\n",
    "    b=1\n",
    "    milieu=(b+a)/2\n",
    "    if (g(a)>c and g(b)>c) or (g(a)<c and g(b)<c):\n",
    "        return None\n",
    "    while (b-a)/2>eps:\n",
    "        if (g(milieu)-c)*(g(a)-c)<=0:\n",
    "            b=milieu\n",
    "        else:\n",
    "            a=milieu\n",
    "        milieu=(b+a)/2\n",
    "    return milieu\n",
    "\n"
   ]
  },
  {
   "cell_type": "markdown",
   "metadata": {
    "slideshow": {
     "slide_type": "slide"
    }
   },
   "source": [
    "## 0.2. Fonction find_seed : exemple d'utilisation "
   ]
  },
  {
   "cell_type": "code",
   "execution_count": 10,
   "metadata": {
    "scrolled": true,
    "slideshow": {
     "slide_type": "-"
    }
   },
   "outputs": [
    {
     "name": "stdout",
     "output_type": "stream",
     "text": [
      "-1.4901161193847656e-08\n"
     ]
    }
   ],
   "source": [
    "\n",
    "f=lambda x,y:(x**2+y**2)*1.0   ##La multiplication par 0.1 permet de s'assurer du type flotant de f(x,y)\n",
    "\n",
    "def g(x):\n",
    "        return f(0,x)\n",
    "\n",
    "print (find_seed(g,1)-np.sqrt(1))#On affiche la différence entre la valeur obtenue par \n",
    "                                               #l'algorithme et la valeur théorique fournie par numpy \n"
   ]
  },
  {
   "cell_type": "markdown",
   "metadata": {
    "slideshow": {
     "slide_type": "-"
    }
   },
   "source": [
    "On note que l'erreur obtenue est de l'ordre de $10^{-10}$ ce qui correpond à peu près au $\\varepsilon$ fixé sachant qu'il y a aussi une erreur sur le calcul de numpy  "
   ]
  },
  {
   "attachments": {
    "Cerce1.PNG": {
     "image/png": "[encoded data removed]"
    }
   },
   "cell_type": "markdown",
   "metadata": {
    "slideshow": {
     "slide_type": "-"
    }
   },
   "source": [
    "![Cerce1.PNG](attachment:Cerce1.PNG)"
   ]
  },
  {
   "cell_type": "markdown",
   "metadata": {
    "slideshow": {
     "slide_type": "slide"
    }
   },
   "source": [
    "# 1. La fonction simple contour "
   ]
  },
  {
   "cell_type": "markdown",
   "metadata": {
    "slideshow": {
     "slide_type": "-"
    }
   },
   "source": [
    "## 1.1. La fonction simple contour : théorème des fonctions implicites \n",
    "#### 1.1.a. La fonction simple contour : théorème des fonctions implicites : l'idée\n",
    "#### 1.1.b. La fonction simple contour : théorème des fonctions implicites : le code\n",
    "#### 1.1.c. La fonction simple contour : théorème des fonctions implicites : un exemple\n",
    "#### 1.1.d. La fonction simple contour : théorème des fonctions implicites : limites "
   ]
  },
  {
   "cell_type": "markdown",
   "metadata": {
    "slideshow": {
     "slide_type": "slide"
    }
   },
   "source": [
    "# 1.1. La fonction simple contour : théorème des fonctions implicites "
   ]
  },
  {
   "cell_type": "markdown",
   "metadata": {
    "slideshow": {
     "slide_type": "slide"
    }
   },
   "source": [
    "## 1.1.a. La fonction simple contour : théorème des fonctions implicites : l'idée"
   ]
  },
  {
   "cell_type": "markdown",
   "metadata": {
    "slideshow": {
     "slide_type": "-"
    }
   },
   "source": [
    "Nous avons trouvé, en supposant qu'il existe, grâce à la fonction find_seed() une point de départ qui vérifie f(0,$y_0$)=c.\n",
    "A partir de ce point nous allons essayer d'en construire un autre qui soit sur la ligne de niveau. \n",
    "\n",
    "Nous étudions une fonction f:R²->R et nous voulons déterminer la ligne de niveau c. \n",
    "On pose donc g:=f-c$*$id et on étudie les $zéros$ de la fonction g.\n",
    "\n",
    "Les mathématiques (le théorème des fonctions implictes) nous affirment que si $g(x_0,y_0)=0$ et que sa dérivée partielle selon la coordonée $x_i$ est non nulle (ce qui correpond à une différentielle partielle inversible car on travaille dans R²), alors on peut au voisinage du point  $(x_0,y_0)$ définir une fonction $\\phi$ continuement différentiable telle que $\\phi(x_j)=x_i\\iff g(x_i,x_j)=0$ (remarque, le couple $(x_i,x_j)$ désigne soit le couple (x,y) soit le couple (y,x)). On connait même dans ce cas \n",
    "\n",
    "C'est forts de cette connaissance que nous choisissons de déterminer le point $(x_1,y_1)$ proche de $(x_0,y_0)$ à $\\delta$ en décalant x (ou respectivement y) d'une quantitée $\\delta$' (que nous expliciterons plus tard). On suppose que la différentielle partielle de g selon y est non nulle en $(x_0,y_0)$ (correspond au cas 1 dans le programme cf.diapositives suivantes) (ou respecetivement celle en x). On est alors assuré que le point suivant vérifie  $\\underline{\\phi(x_1)=y_1}$ (ou symétriquement en y et x). \n",
    "\n",
    "\n",
    "On écrit maintenant $x_1=x_0+\\delta$. Ainsi, $y_1=\\phi(x_1)=y_0+d\\phi(x_0).\\delta'+o(\\delta')$ ce qui donne au premier ordre en $\\delta$' une valeur du prochain point. \n",
    "\n",
    "Détermions $\\delta$' pour que les deux points trouvés soient distants de $\\delta$ exactement. \n",
    "On choisit $\\delta$'=$\\frac{\\delta}{\\sqrt{1+d\\phi(x_0)^2}}$ et on a alors directement les points espacés de $\\delta$."
   ]
  },
  {
   "cell_type": "raw",
   "metadata": {
    "slideshow": {
     "slide_type": "subslide"
    }
   },
   "source": [
    "Cependant, cette méthode ne constiste qu'en une approxiamation de la vraie valeur. Pour ne pas sommer les erreurs, on définit une fonction qui va à partir du point approximatif déterminé trouvé un meilleur point. \n",
    "Cette méthode s'inspire de la méthode de Newton en 1D. "
   ]
  },
  {
   "cell_type": "markdown",
   "metadata": {
    "slideshow": {
     "slide_type": "slide"
    }
   },
   "source": [
    "## 1.1.b. La fonction simple contour : théorème des fonctions implicites: le code "
   ]
  },
  {
   "cell_type": "raw",
   "metadata": {
    "slideshow": {
     "slide_type": "-"
    }
   },
   "source": [
    "On présente ci-après la fonction prochain point qui repose sur l'application de la \"méthode\" des fonctions implicites.  "
   ]
  },
  {
   "cell_type": "code",
   "execution_count": 4,
   "metadata": {
    "slideshow": {
     "slide_type": "-"
    }
   },
   "outputs": [],
   "source": [
    "def grad_f(x,y):\n",
    "    g=autograd.grad\n",
    "    return np.r_[g(f,0)(x,y),g(f,1)(x,y)]\n",
    "\n",
    "def prochain_point(f,x,y,delta=0.01):\n",
    "    grad=grad_f(x,y)\n",
    "    if grad[1]!=0: #Cas 1 (cf. diapositive introductive)\n",
    "        d_phi=-grad[0]/grad[1]\n",
    "        delta2=delta/sqrt(1+d_phi**2)\n",
    "        return (x+delta2, y+d_phi*delta2)\n",
    "    elif grad[0]!=0: #Cas 2 (cf. diapositive introductive)\n",
    "        d_phi=-grad[1]/grad[0]\n",
    "        delta2=delta/sqrt(1+d_phi**2)\n",
    "        return (x+d_phi*delta2,y+delta2)\n",
    "    else:\n",
    "        return None\n",
    "        "
   ]
  },
  {
   "cell_type": "markdown",
   "metadata": {
    "slideshow": {
     "slide_type": "slide"
    }
   },
   "source": [
    "## 1.1.b. La fonction simple contour : théorème des fonctions implicites: le code "
   ]
  },
  {
   "cell_type": "raw",
   "metadata": {
    "slideshow": {
     "slide_type": "-"
    }
   },
   "source": [
    "Prochain point étant définie, on peut maintenant définir simple contour. "
   ]
  },
  {
   "cell_type": "code",
   "execution_count": 10,
   "metadata": {
    "slideshow": {
     "slide_type": "-"
    }
   },
   "outputs": [],
   "source": [
    "def simple_contour1(f, c=0., delta=0.01):\n",
    "    def g(x):\n",
    "        return f(0,x)\n",
    "    t=find_seed(g,c)\n",
    "    if t==None:\n",
    "        return ([],[])\n",
    "    else:\n",
    "        les_x=[0.]\n",
    "        les_y=[t]\n",
    "        \n",
    "        while ((1-les_x[-1])>delta/2 and (1-les_y[-1])>delta/2 and (les_x[-1])>delta/2 and (les_y[-1])>delta/2) or (abs(les_x[0]-les_x[-1])<delta/2 or abs(les_y[0]-les_y[-1])<delta/2)  :\n",
    "            point=prochain_point(f,les_x[-1],les_y[-1],delta)\n",
    "            les_x.append(point[0])\n",
    "            les_y.append(point[1])\n",
    "        return (les_x,les_y)\n",
    "    \n"
   ]
  },
  {
   "cell_type": "markdown",
   "metadata": {
    "slideshow": {
     "slide_type": "slide"
    }
   },
   "source": [
    "## 1.1.c. La fonction simple contour : théorème des fonctions implicites: un exemple "
   ]
  },
  {
   "cell_type": "raw",
   "metadata": {
    "slideshow": {
     "slide_type": "-"
    }
   },
   "source": [
    "Nous allons tester simple contour sur la fonction qui au couple de réels (x,y) associe le réel x²+y². Nous voulons tracer la ligne de niveau 1. "
   ]
  },
  {
   "cell_type": "code",
   "execution_count": 12,
   "metadata": {
    "scrolled": false,
    "slideshow": {
     "slide_type": "-"
    }
   },
   "outputs": [
    {
     "data": {
      "image/png": "[encoded data removed]",
      "text/plain": [
       "<Figure size 432x288 with 1 Axes>"
      ]
     },
     "metadata": {
      "needs_background": "light"
     },
     "output_type": "display_data"
    }
   ],
   "source": [
    "f=lambda x,y:(x**2+y**2)*1.0\n",
    "\n",
    "couples=simple_contour1(f,1.0,0.001)\n",
    "\n",
    "pl.plot(couples[0],couples[1])\n",
    "pl.axis(\"equal\")\n",
    "pl.xlabel('x')\n",
    "pl.ylabel('y')\n",
    "pl.title('Portion du cercle unité')\n",
    "pl.show()"
   ]
  },
  {
   "cell_type": "markdown",
   "metadata": {
    "slideshow": {
     "slide_type": "slide"
    }
   },
   "source": [
    "## 1.1.d. La fonction simple contour : théorème des fonctions implicites: limites "
   ]
  },
  {
   "cell_type": "raw",
   "metadata": {
    "slideshow": {
     "slide_type": "-"
    }
   },
   "source": [
    "Principal problème: Lors de la mise en oeuvre de l'algorithme, nous déplaçons à chaque fois x vers les x croissants. On ne peut donc pas traiter les cas de fonctions commme g:(x,y)->(x-0.5)²+(y-0.5)².\n",
    "On aurait pu traiter ce problème en déplaçant x dans la directions indiquée par le gradiant de f mais nous avons manqué de temps pour implémenter cette idée. \n",
    "\n",
    "Problème annexe: Cette méthode s'appuie essentiellement sur une série d'approximations. La propagation d'erreurs pour une fonction qui varie beaucoup est donc importante . \n",
    "\n",
    "Problème mineur: On ne traite pas le cas où le gradiant de la fonction f sont on souhaite tracer les lignes de niveau s'annule. "
   ]
  },
  {
   "cell_type": "markdown",
   "metadata": {
    "slideshow": {
     "slide_type": "-"
    }
   },
   "source": [
    "## 1.2. La fonction simple contour : caractérisation par le gradient \n",
    "#### 1.2.a. La fonction simple contour : caractérisation par le gradient  : l'idée\n",
    "#### 1.2.b. La fonction simple contour : caractérisation par le gradient : le code\n",
    "#### 1.2.c. La fonction simple contour : caractérisation par le gradient  : un exemple"
   ]
  },
  {
   "cell_type": "markdown",
   "metadata": {
    "slideshow": {
     "slide_type": "slide"
    }
   },
   "source": [
    "## 1.2.a. La fonction simple contour : caractérisation par le gradient : l'idée "
   ]
  },
  {
   "cell_type": "markdown",
   "metadata": {
    "slideshow": {
     "slide_type": "-"
    }
   },
   "source": [
    "Contrairement à la méthode mise en oeuvre précédemment, la méthode que nous allons proposer peut traiter le problème du déplacement à droite ou à gauche de x. \n",
    "\n",
    "Une propriété des lignes de niveau est d'être en tout point orthogonales au gradient de la fonction. \n",
    "C'est forts de cette connaissance que nous choisissons de déterminer le point $(x_1,y_1)$ proche de $a=(x_0,y_0)$ à $\\delta$ en écrivant à l'orde 1 en $\\delta$': $(x_1,y_1)\\approx(x_0+\\partial_yf(a).\\delta',y_0-\\partial_xf(a).\\delta')$ \n",
    "\n",
    "On trouve alors $\\delta$'=$\\frac{\\delta}{\\sqrt{1+\\mid\\mid grad(f)\\mid\\mid^2}}$ \n",
    "\n",
    "De cette expression approchée on peut trouver un bon point de départ pour une méthode de calcul plus lourde mais qui nous approche d'avantage du vrai point, la méthode de Newton en 2D. \n"
   ]
  },
  {
   "cell_type": "markdown",
   "metadata": {
    "slideshow": {
     "slide_type": "slide"
    }
   },
   "source": [
    "## 1.2.b. La fonction simple contour : caractérisation par le gradient : le code "
   ]
  },
  {
   "cell_type": "raw",
   "metadata": {
    "slideshow": {
     "slide_type": "-"
    }
   },
   "source": [
    "On présente ci-après l'algorithme de méthode de Newton à 2 dimensions. "
   ]
  },
  {
   "cell_type": "code",
   "execution_count": 12,
   "metadata": {
    "slideshow": {
     "slide_type": "-"
    }
   },
   "outputs": [],
   "source": [
    "def newton(f,c,x,y,eps=2**-26):\n",
    "    def g(x,y):\n",
    "        return f(x,y)-c\n",
    "    # g va nous permettre de se ramener à la recherche d'un point fixe\n",
    "    def J_g(x,y):\n",
    "        j=autograd.jacobian\n",
    "        return np.c_[j(g,0)(x,y),j(g,1)(x,y)]\n",
    "    J=J_g(x,y)\n",
    "    #la jacobienne est ici un vecteur à deux composantes\n",
    "    while g(x,y)>eps:\n",
    "        #on arrête la boucle quand on est à esp du point fixe (même précision que find_seed)\n",
    "        a=np.array((x,y))        \n",
    "        a=a-J*g(x,y)\n",
    "        x=a[0,0]\n",
    "        y=a[0,1]\n",
    "    return (x,y)"
   ]
  },
  {
   "cell_type": "markdown",
   "metadata": {
    "slideshow": {
     "slide_type": "slide"
    }
   },
   "source": [
    "## 1.2.b. La fonction simple contour : caractérisation par le gradient : le code "
   ]
  },
  {
   "cell_type": "raw",
   "metadata": {
    "slideshow": {
     "slide_type": "-"
    }
   },
   "source": [
    "On se sert donc des deux procédés décrits dans l'introduction sur la partie pour créer la fonction suivante. \n",
    "Nous avons procédé\n",
    "n.b.: Cette fonction est particulièrement longue car nous ne savions pas à quel point la méthode contour_complexe fournie était puissante. En effet, il ne faut pas oublier que le gradient est un vecteur, possédant donc une direction mais surtout un sens. C'est ce sens qui peut poser problème. En effet, on se sert de l'expression du gradient pour déterminer une direction de la droite tangente à ligne de niveau. Mais alors on impose un 'sens' à notre tangente, c'est à dire que lorsque l'on avance sur celle-ci, on peut aller soit à droite soit à gauche (si l'on rapporte le déplacement à l'axe des x). Imaginons que l'on se déplace vers la gauche, alors on sort du carré de côté 1 (entre 0 et 1) sans avoir tracé la ligne de niveau à l'intérieur, ce qui n'est pas satisfaisant (on trace quelques points qui sortent du carré et les conditions d'arrêt étants, le programme s'arrête). On effectue donc un test sur le sens du gradient, au niveau du premier point (définit par find_seed) pour pallier à ce problème, et s'il 'oriente' la tangente vers la gauche, alors on réalise les opérations suivantes avec -f (la fonction opposée de f) et comme valeur de ligne de niveau -c."
   ]
  },
  {
   "cell_type": "code",
   "execution_count": 13,
   "metadata": {
    "slideshow": {
     "slide_type": "-"
    }
   },
   "outputs": [],
   "source": [
    "def simple_contour2_1(f,c=0.0,delta=0.01):\n",
    "    def grad_f(x,y):\n",
    "        g=autograd.grad\n",
    "        return np.r_[g(f,0)(x,y),g(f,1)(x,y)]\n",
    "    les_x=[0.0]\n",
    "    delta2=delta/2 #Pour que les conditions d'arrêt soient telles que l'on s'arrête bien\n",
    "                    # à moins de delta du bord du carré\n",
    "    g=lambda y:f(0,y)\n",
    "    les_y=[find_seed(g,c)]\n",
    "    if les_y[0]==None:\n",
    "        return ([],[])\n",
    "    elif grad_f(les_x[0],les_y[0])[1]>=0 :\n",
    "        while ((1-les_x[-1])>delta2 and (1-les_y[-1])>delta2 and (les_x[-1])>delta2 and (les_y[-1])>delta2) or (abs(les_x[0]-les_x[-1])<delta2 or abs(les_y[0]-les_y[-1])<delta2)  :\n",
    "            grad=grad_f(les_x[-1],les_y[-1])\n",
    "            delta1=delta/(np.sqrt(grad[1]**2+grad[0]**2))\n",
    "            '''\n",
    "            On applique une petite correction à delta pour s'assurer que deux points successifs sont bien à une \n",
    "            distance delta l'un de l'autre.\n",
    "            '''\n",
    "            a=newton(f,c,les_x[-1]+grad[1]*delta1,les_y[-1]-grad[0]*delta1)\n",
    "            les_x.append(a[0])\n",
    "            les_y.append(a[1])\n",
    "            '''\n",
    "            On utilie la méthode de Newton pour redresser l'erreur dûe à l'approximation faite \n",
    "            par le calcul avec le gradient (où l'on prend la droite tangente)\n",
    "            '''\n",
    "        return les_x,les_y\n",
    "    else :\n",
    "        f1=lambda x,y:-f(x,y)\n",
    "        def grad_f1(x,y):\n",
    "            g=autograd.grad\n",
    "            return np.r_[g(f1,0)(x,y),g(f1,1)(x,y)]\n",
    "        les_x=[0.0]\n",
    "        g=lambda y:f1(0,y)\n",
    "        les_y=[find_seed(g,-c)]\n",
    "        while ((1-les_x[-1])>delta2 and (1-les_y[-1])>delta2 and (les_x[-1])>delta2 and (les_y[-1])>delta2) or (abs(les_x[0]-les_x[-1])<delta2 or abs(les_y[0]-les_y[-1])<delta2)  :\n",
    "            grad=grad_f1(les_x[-1],les_y[-1])\n",
    "            delta1=delta/(np.sqrt(grad[1]**2+grad[0]**2))\n",
    "            a=newton(f1,-c,les_x[-1]+grad[1]*delta1,les_y[-1]-grad[0]*delta1)\n",
    "            les_x.append(a[0])\n",
    "            les_y.append(a[1])\n",
    "        return les_x,les_y"
   ]
  },
  {
   "cell_type": "markdown",
   "metadata": {
    "slideshow": {
     "slide_type": "slide"
    }
   },
   "source": [
    "## 1.2.b. La fonction simple contour : caractérisation par le gradient : le code "
   ]
  },
  {
   "cell_type": "markdown",
   "metadata": {
    "slideshow": {
     "slide_type": "-"
    }
   },
   "source": [
    "Au vu de la fonction contour_complexe fournie, on peut se passer de la disjonction de cas sur la gradient. "
   ]
  },
  {
   "cell_type": "code",
   "execution_count": 14,
   "metadata": {},
   "outputs": [],
   "source": [
    "def simple_contour(f,c=0.0,delta=0.01):\n",
    "    def grad_f(x,y):\n",
    "        g=autograd.grad\n",
    "        return np.r_[g(f,0)(x,y),g(f,1)(x,y)]\n",
    "    les_x=[0.0]\n",
    "    delta2=delta/2#Pour que les conditions d'arrêt soient telles que l'on s'arrête bien\n",
    "                    # à moins de delta du bord du carré\n",
    "    g=lambda y:f(0,y)\n",
    "    les_y=[find_seed(g,c)]\n",
    "    if les_y[0]==None:\n",
    "        return ([],[])\n",
    "    while ((1-les_x[-1])>delta2 and (1-les_y[-1])>delta2 and (les_x[-1])>delta2 and (les_y[-1])>delta2) or (abs(les_x[0]-les_x[-1])<delta2 or abs(les_y[0]-les_y[-1])<delta2)  :\n",
    "        grad=grad_f(les_x[-1],les_y[-1])\n",
    "        delta1=delta/(np.sqrt(grad[1]**2+grad[0]**2))\n",
    "        '''\n",
    "            On applique une petite correction à delta pour s'assurer que deux points successifs sont bien à une \n",
    "            distance delta l'un de l'autre.\n",
    "        '''\n",
    "        a=newton(f,c,les_x[-1]+grad[1]*delta1,les_y[-1]-grad[0]*delta1)\n",
    "        les_x.append(a[0])\n",
    "        les_y.append(a[1])\n",
    "        '''\n",
    "        On utilie la méthode de Newton pour redresser l'erreur dûe à l'approximation faite \n",
    "        par le calcul avec le gradient \n",
    "        '''\n",
    "    return les_x,les_y"
   ]
  },
  {
   "cell_type": "markdown",
   "metadata": {
    "slideshow": {
     "slide_type": "slide"
    }
   },
   "source": [
    "## 1.2.c. La fonction simple contour : caractérisation par le gradient : un exemple "
   ]
  },
  {
   "cell_type": "code",
   "execution_count": 15,
   "metadata": {
    "slideshow": {
     "slide_type": "-"
    }
   },
   "outputs": [
    {
     "data": {
      "image/png": "[encoded data removed]",
      "text/plain": [
       "<Figure size 432x288 with 1 Axes>"
      ]
     },
     "metadata": {
      "needs_background": "light"
     },
     "output_type": "display_data"
    }
   ],
   "source": [
    "f=lambda x,y:((x)**2+(y)**2)-.5**2\n",
    "     \n",
    "a=simple_contour(f,c=0.)        \n",
    "X=a[0]\n",
    "Y=a[1]\n",
    "pl.plot(X,Y)\n",
    "pl.axis(\"equal\")\n",
    "pl.show()   "
   ]
  },
  {
   "cell_type": "markdown",
   "metadata": {
    "slideshow": {
     "slide_type": "slide"
    }
   },
   "source": [
    "# 1.3. Conclusion sur les fonctions simple contour"
   ]
  },
  {
   "cell_type": "markdown",
   "metadata": {
    "slideshow": {
     "slide_type": "-"
    }
   },
   "source": [
    "Nous avons abandonné le développement de la fonction simple contour qui utilisait les fonctions implicites quand nous avons remarqué qu'il était compliqué de savoir de quel côté déplacer x.\n",
    "Pour résoudre le problème lié à la propagation des erreurs, on aurait pu ajouter la fonction de la méthode de Newton à 2D mais nous ne l'avons pas fait pour la raison ci-dessus ennoncée. \n",
    "\n",
    "La méthode utilisant les gradiant s'avère être efficace.\n",
    "\n",
    "Reste à lui adjoindre la fonction contour_complexe. "
   ]
  },
  {
   "cell_type": "markdown",
   "metadata": {
    "slideshow": {
     "slide_type": "slide"
    }
   },
   "source": [
    "# 2. Fonction contour_complexe et exemple"
   ]
  },
  {
   "cell_type": "markdown",
   "metadata": {
    "slideshow": {
     "slide_type": "-"
    }
   },
   "source": [
    "La fonction contour simple ayant été définie avec succès, il reste à écrire une fonction contour_complexe qui traite les cas autres que les fonction sur [0;1]. Nous utilisons la fonction mise à notre disposition sur le forum discourse (dans la sous diapo, pensez à l'executer)"
   ]
  },
  {
   "cell_type": "code",
   "execution_count": 16,
   "metadata": {
    "slideshow": {
     "slide_type": "subslide"
    }
   },
   "outputs": [],
   "source": [
    "LEFT, UP, RIGHT, DOWN = 0, 1, 2, 3  # clockwise\n",
    "\n",
    "\n",
    "def rotate_direction(direction, n=1):\n",
    "    return (direction + n) % 4\n",
    "\n",
    "\n",
    "def rotate(x, y, n=1):\n",
    "    if n == 0:\n",
    "        return x, y\n",
    "    elif n >= 1:\n",
    "        return rotate(1 - y, x, n - 1)\n",
    "    else:\n",
    "        assert n < 0\n",
    "        return rotate(x, y, n=-3 * n)\n",
    "\n",
    "\n",
    "def rotate_function(f, n=1):\n",
    "    def rotated_function(x, y):\n",
    "        xr, yr = rotate(x, y, -n)\n",
    "        return f(xr, yr)\n",
    "\n",
    "    return rotated_function\n",
    "\n",
    "\n",
    "# Complex Contouring\n",
    "# ------------------------------------------------------------------------------\n",
    "\n",
    "# Customize the simple_contour function used in contour :\n",
    "# simple_contour = smart_simple_contour\n",
    "\n",
    "\n",
    "def contour(f, c, xs=[0.0, 1.0], ys=[0.0, 1.0], delta=0.01):\n",
    "    curves = []\n",
    "    nx, ny = len(xs), len(ys)\n",
    "    for i in range(nx - 1):\n",
    "        for j in range(ny - 1):\n",
    "            xmin, xmax = xs[i], xs[i + 1]\n",
    "            ymin, ymax = ys[j], ys[j + 1]\n",
    "\n",
    "            def f_cell(x, y):\n",
    "                return f(xmin + (xmax - xmin) * x, ymin + (ymax - ymin) * y)\n",
    "\n",
    "            done = set()\n",
    "            for n in [0, 1, 2, 3]:\n",
    "                if n not in done:\n",
    "                    rotated_f_cell = rotate_function(f_cell, n)\n",
    "                    x_curve_r, y_curve_r = simple_contour(rotated_f_cell, c, delta)\n",
    "                    exit = None\n",
    "                    if len(x_curve_r) >= 1:\n",
    "                        xf, yf = x_curve_r[-1], y_curve_r[-1]\n",
    "                        if xf == 0.0:\n",
    "                            exit = LEFT\n",
    "                        elif xf == 1.0:\n",
    "                            exit = RIGHT\n",
    "                        elif yf == 0.0:\n",
    "                            exit = DOWN\n",
    "                        elif yf == 1.0:\n",
    "                            exit = UP\n",
    "                    if exit is not None:  # a fully successful contour fragment\n",
    "                        exit = rotate_direction(exit, n)\n",
    "                        done.add(exit)\n",
    "\n",
    "                    x_curve, y_curve = [], []\n",
    "                    for x_r, y_r in zip(x_curve_r, y_curve_r):\n",
    "                        x, y = rotate(x_r, y_r, n=-n)\n",
    "                        x_curve.append(x)\n",
    "                        y_curve.append(y)\n",
    "                    x_curve = np.array(x_curve)\n",
    "                    y_curve = np.array(y_curve)\n",
    "                    curves.append(\n",
    "                        (xmin + (xmax - xmin) * x_curve, ymin + (ymax - ymin) * y_curve)\n",
    "                    )\n",
    "    return curves\n"
   ]
  },
  {
   "cell_type": "markdown",
   "metadata": {
    "slideshow": {
     "slide_type": "slide"
    }
   },
   "source": [
    "# 2. Fonction contour_complexe et exemple"
   ]
  },
  {
   "cell_type": "code",
   "execution_count": null,
   "metadata": {
    "slideshow": {
     "slide_type": "-"
    }
   },
   "outputs": [
    {
     "name": "stdout",
     "output_type": "stream",
     "text": [
      "l'exécution de ces lignes peut-être longue\n"
     ]
    }
   ],
   "source": [
    "f1=lambda x,y:2*(np.exp(-x**2-y**2)-np.exp(-(x-1)**2-(y-1)**2)) #la fonction du poly\n",
    "f2=lambda x,y:((x)**2+(y)**2)-.5**2+np.sin(x*y)*np.cos(2*x**2) #fonction plus rigolote, mais plus complexe à tracer \n",
    "print(\"l'exécution de ces lignes peut-être longue\")\n",
    "xs=np.linspace(-3,4,30)\n",
    "ys=np.linspace(-3,4,30)\n",
    "p=2 #p représente les nombre de ligne de niveau que l'on souhaite tracé \n",
    "for i in range(p):\n",
    "    level_curves = contour(f1,0.5-i,xs,ys) \n",
    "    for x, y in level_curves:\n",
    "        plt.plot(x, y, 'r')\n",
    "        pl.axis(\"equal\")\n",
    "plt.show()"
   ]
  }
 ],
 "metadata": {
  "celltoolbar": "Diaporama",
  "kernelspec": {
   "display_name": "Python 3",
   "language": "python",
   "name": "python3"
  },
  "language_info": {
   "codemirror_mode": {
    "name": "ipython",
    "version": 3
   },
   "file_extension": ".py",
   "mimetype": "text/x-python",
   "name": "python",
   "nbconvert_exporter": "python",
   "pygments_lexer": "ipython3",
   "version": "3.7.3"
  }
 },
 "nbformat": 4,
 "nbformat_minor": 2
}
