{
 "cells": [
  {
   "cell_type": "markdown",
   "metadata": {},
   "source": [
    "## Lignes de niveau, Projet Maths Info, Augustin Jacquillat Louis Perrotin"
   ]
  },
  {
   "cell_type": "raw",
   "metadata": {},
   "source": [
    "Le projet que nous avons réalisé consiste en l'écriture de fonctions Python qui doivent permettrent de réaliser la tracé de lignes de niveau pour des fonctions de R² dans R. "
   ]
  },
  {
   "cell_type": "code",
   "execution_count": null,
   "metadata": {},
   "outputs": [],
   "source": [
    "Pour ce faire, nous avons séparé en deux grandes étapes le travail à fournir: \n",
    "    1. Ecrire une fonction qui réalise le tracé de ces lignes dans un cas simple "
   ]
  },
  {
   "cell_type": "code",
   "execution_count": null,
   "metadata": {},
   "outputs": [],
   "source": []
  },
  {
   "cell_type": "code",
   "execution_count": null,
   "metadata": {},
   "outputs": [],
   "source": []
  },
  {
   "cell_type": "code",
   "execution_count": null,
   "metadata": {},
   "outputs": [],
   "source": []
  }
 ],
 "metadata": {
  "kernelspec": {
   "display_name": "Python 3",
   "language": "python",
   "name": "python3"
  },
  "language_info": {
   "codemirror_mode": {
    "name": "ipython",
    "version": 3
   },
   "file_extension": ".py",
   "mimetype": "text/x-python",
   "name": "python",
   "nbconvert_exporter": "python",
   "pygments_lexer": "ipython3",
   "version": "3.7.3"
  }
 },
 "nbformat": 4,
 "nbformat_minor": 2
}
